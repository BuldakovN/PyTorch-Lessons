{
  "nbformat": 4,
  "nbformat_minor": 0,
  "metadata": {
    "colab": {
      "provenance": [],
      "toc_visible": true,
      "collapsed_sections": [
        "mV8n8faxvOQO",
        "W4qhspuX3zOE",
        "mzgpHI4wuaPq",
        "Am-la7kqCDEl",
        "eKr7PQlLke2o",
        "7bIrvcYJ_5jK",
        "9P9bWaC9QQJm",
        "TRxJxcRJQsMz",
        "MRuSrP7JQ00i",
        "1b95Z8u7Q3OL"
      ]
    },
    "kernelspec": {
      "name": "python3",
      "display_name": "Python 3"
    },
    "language_info": {
      "name": "python"
    },
    "gpuClass": "standard",
    "accelerator": "GPU"
  },
  "cells": [
    {
      "cell_type": "markdown",
      "source": [
        "# Семинар 1\n",
        "**План семинара:**\n",
        "1. Получение информации об оборудовании\n",
        "2. Библиотека Pytorch\n",
        "  - установка (Windows/Linux(Google Colab); CPU/GPU)\n",
        "  - обзор возможностей и особенностей\n",
        "  - запуск простейших примеров\n",
        "3. Введение в глубокое обучение\n",
        "  - перцептрон (решение практических задач)"
      ],
      "metadata": {
        "id": "EShwaJUpigbf"
      }
    },
    {
      "cell_type": "markdown",
      "source": [
        "# Получение информации об оборудовании"
      ],
      "metadata": {
        "id": "SE_-SpH-mtFc"
      }
    },
    {
      "cell_type": "markdown",
      "source": [
        "**Windows** - GUI\\\n",
        "**Linux** (Google colab) - terminal"
      ],
      "metadata": {
        "id": "lnGz2Eopm3ag"
      }
    },
    {
      "cell_type": "code",
      "source": [
        "# версия Linux\n",
        "!cat /proc/version"
      ],
      "metadata": {
        "colab": {
          "base_uri": "https://localhost:8080/"
        },
        "id": "vPDZJB92omAL",
        "outputId": "617b1415-c312-4b07-f62c-e4a8e6688335"
      },
      "execution_count": 1,
      "outputs": [
        {
          "output_type": "stream",
          "name": "stdout",
          "text": [
            "Linux version 5.10.133+ (builder@b1018906abc3) (Chromium OS 12.0_pre422132_p20210405-r10 clang version 13.0.0 (/var/tmp/portage/sys-devel/llvm-12.0_pre422132_p20210405-r10/work/llvm-12.0_pre422132_p20210405/clang cd442157cff4aad209ae532cbf031abbe10bc1df), LLD 13.0.0 (/var/tmp/portage/sys-devel/llvm-12.0_pre422132_p20210405-r10/work/llvm-12.0_pre422132_p20210405/lld cd442157cff4aad209ae532cbf031abbe10bc1df)) #1 SMP Fri Aug 26 08:44:51 UTC 2022\n"
          ]
        }
      ]
    },
    {
      "cell_type": "code",
      "source": [
        "# версия дистрибутива Linux\n",
        "!lsb_release -a"
      ],
      "metadata": {
        "colab": {
          "base_uri": "https://localhost:8080/"
        },
        "id": "ePuVTgneo0Rs",
        "outputId": "06720c2f-3402-47e1-b22d-fc863d3401e1"
      },
      "execution_count": 2,
      "outputs": [
        {
          "output_type": "stream",
          "name": "stdout",
          "text": [
            "No LSB modules are available.\n",
            "Distributor ID:\tUbuntu\n",
            "Description:\tUbuntu 18.04.6 LTS\n",
            "Release:\t18.04\n",
            "Codename:\tbionic\n"
          ]
        }
      ]
    },
    {
      "cell_type": "code",
      "execution_count": 3,
      "metadata": {
        "id": "eXAC5VIPiJl7",
        "colab": {
          "base_uri": "https://localhost:8080/"
        },
        "outputId": "4fa9be0d-22b6-4e36-fa83-cf5839070dc3"
      },
      "outputs": [
        {
          "output_type": "stream",
          "name": "stdout",
          "text": [
            "Sun Dec  4 17:12:02 2022       \n",
            "+-----------------------------------------------------------------------------+\n",
            "| NVIDIA-SMI 460.32.03    Driver Version: 460.32.03    CUDA Version: 11.2     |\n",
            "|-------------------------------+----------------------+----------------------+\n",
            "| GPU  Name        Persistence-M| Bus-Id        Disp.A | Volatile Uncorr. ECC |\n",
            "| Fan  Temp  Perf  Pwr:Usage/Cap|         Memory-Usage | GPU-Util  Compute M. |\n",
            "|                               |                      |               MIG M. |\n",
            "|===============================+======================+======================|\n",
            "|   0  Tesla T4            Off  | 00000000:00:04.0 Off |                    0 |\n",
            "| N/A   41C    P0    25W /  70W |      0MiB / 15109MiB |      0%      Default |\n",
            "|                               |                      |                  N/A |\n",
            "+-------------------------------+----------------------+----------------------+\n",
            "                                                                               \n",
            "+-----------------------------------------------------------------------------+\n",
            "| Processes:                                                                  |\n",
            "|  GPU   GI   CI        PID   Type   Process name                  GPU Memory |\n",
            "|        ID   ID                                                   Usage      |\n",
            "|=============================================================================|\n",
            "|  No running processes found                                                 |\n",
            "+-----------------------------------------------------------------------------+\n"
          ]
        }
      ],
      "source": [
        "# видеокарта\n",
        "!nvidia-smi"
      ]
    },
    {
      "cell_type": "markdown",
      "source": [
        "CUDA Version в nvidia-smi - это не ваша текущая версия CUDA, а [максимально поддерживаемая версия](https://docs.nvidia.com/cuda/cuda-toolkit-release-notes/index.html) для текущего драйвера видеокарты."
      ],
      "metadata": {
        "id": "CPIo9i8Tx0aX"
      }
    },
    {
      "cell_type": "code",
      "source": [
        "# cuda compiler\n",
        "!nvcc --version"
      ],
      "metadata": {
        "colab": {
          "base_uri": "https://localhost:8080/"
        },
        "id": "TF2LKwK9wsiH",
        "outputId": "c2b8581e-a303-4426-b836-dd79678bf7a0"
      },
      "execution_count": 4,
      "outputs": [
        {
          "output_type": "stream",
          "name": "stdout",
          "text": [
            "nvcc: NVIDIA (R) Cuda compiler driver\n",
            "Copyright (c) 2005-2021 NVIDIA Corporation\n",
            "Built on Sun_Feb_14_21:12:58_PST_2021\n",
            "Cuda compilation tools, release 11.2, V11.2.152\n",
            "Build cuda_11.2.r11.2/compiler.29618528_0\n"
          ]
        }
      ]
    },
    {
      "cell_type": "code",
      "source": [
        "# процессор\n",
        "!cat /proc/cpuinfo"
      ],
      "metadata": {
        "colab": {
          "base_uri": "https://localhost:8080/"
        },
        "id": "W1vqoHiFnzCk",
        "outputId": "513fae61-3226-4f2d-a9e3-b41b4845f725"
      },
      "execution_count": 5,
      "outputs": [
        {
          "output_type": "stream",
          "name": "stdout",
          "text": [
            "processor\t: 0\n",
            "vendor_id\t: GenuineIntel\n",
            "cpu family\t: 6\n",
            "model\t\t: 79\n",
            "model name\t: Intel(R) Xeon(R) CPU @ 2.20GHz\n",
            "stepping\t: 0\n",
            "microcode\t: 0x1\n",
            "cpu MHz\t\t: 2199.998\n",
            "cache size\t: 56320 KB\n",
            "physical id\t: 0\n",
            "siblings\t: 2\n",
            "core id\t\t: 0\n",
            "cpu cores\t: 1\n",
            "apicid\t\t: 0\n",
            "initial apicid\t: 0\n",
            "fpu\t\t: yes\n",
            "fpu_exception\t: yes\n",
            "cpuid level\t: 13\n",
            "wp\t\t: yes\n",
            "flags\t\t: fpu vme de pse tsc msr pae mce cx8 apic sep mtrr pge mca cmov pat pse36 clflush mmx fxsr sse sse2 ss ht syscall nx pdpe1gb rdtscp lm constant_tsc rep_good nopl xtopology nonstop_tsc cpuid tsc_known_freq pni pclmulqdq ssse3 fma cx16 pcid sse4_1 sse4_2 x2apic movbe popcnt aes xsave avx f16c rdrand hypervisor lahf_lm abm 3dnowprefetch invpcid_single ssbd ibrs ibpb stibp fsgsbase tsc_adjust bmi1 hle avx2 smep bmi2 erms invpcid rtm rdseed adx smap xsaveopt arat md_clear arch_capabilities\n",
            "bugs\t\t: cpu_meltdown spectre_v1 spectre_v2 spec_store_bypass l1tf mds swapgs taa mmio_stale_data retbleed\n",
            "bogomips\t: 4399.99\n",
            "clflush size\t: 64\n",
            "cache_alignment\t: 64\n",
            "address sizes\t: 46 bits physical, 48 bits virtual\n",
            "power management:\n",
            "\n",
            "processor\t: 1\n",
            "vendor_id\t: GenuineIntel\n",
            "cpu family\t: 6\n",
            "model\t\t: 79\n",
            "model name\t: Intel(R) Xeon(R) CPU @ 2.20GHz\n",
            "stepping\t: 0\n",
            "microcode\t: 0x1\n",
            "cpu MHz\t\t: 2199.998\n",
            "cache size\t: 56320 KB\n",
            "physical id\t: 0\n",
            "siblings\t: 2\n",
            "core id\t\t: 0\n",
            "cpu cores\t: 1\n",
            "apicid\t\t: 1\n",
            "initial apicid\t: 1\n",
            "fpu\t\t: yes\n",
            "fpu_exception\t: yes\n",
            "cpuid level\t: 13\n",
            "wp\t\t: yes\n",
            "flags\t\t: fpu vme de pse tsc msr pae mce cx8 apic sep mtrr pge mca cmov pat pse36 clflush mmx fxsr sse sse2 ss ht syscall nx pdpe1gb rdtscp lm constant_tsc rep_good nopl xtopology nonstop_tsc cpuid tsc_known_freq pni pclmulqdq ssse3 fma cx16 pcid sse4_1 sse4_2 x2apic movbe popcnt aes xsave avx f16c rdrand hypervisor lahf_lm abm 3dnowprefetch invpcid_single ssbd ibrs ibpb stibp fsgsbase tsc_adjust bmi1 hle avx2 smep bmi2 erms invpcid rtm rdseed adx smap xsaveopt arat md_clear arch_capabilities\n",
            "bugs\t\t: cpu_meltdown spectre_v1 spectre_v2 spec_store_bypass l1tf mds swapgs taa mmio_stale_data retbleed\n",
            "bogomips\t: 4399.99\n",
            "clflush size\t: 64\n",
            "cache_alignment\t: 64\n",
            "address sizes\t: 46 bits physical, 48 bits virtual\n",
            "power management:\n",
            "\n"
          ]
        }
      ]
    },
    {
      "cell_type": "code",
      "source": [
        "# процессор\n",
        "!lscpu"
      ],
      "metadata": {
        "colab": {
          "base_uri": "https://localhost:8080/"
        },
        "id": "_q3ACTnJoMJU",
        "outputId": "f811fcd6-6687-4b50-da1b-3b5724befd13"
      },
      "execution_count": 6,
      "outputs": [
        {
          "output_type": "stream",
          "name": "stdout",
          "text": [
            "Architecture:        x86_64\n",
            "CPU op-mode(s):      32-bit, 64-bit\n",
            "Byte Order:          Little Endian\n",
            "CPU(s):              2\n",
            "On-line CPU(s) list: 0,1\n",
            "Thread(s) per core:  2\n",
            "Core(s) per socket:  1\n",
            "Socket(s):           1\n",
            "NUMA node(s):        1\n",
            "Vendor ID:           GenuineIntel\n",
            "CPU family:          6\n",
            "Model:               79\n",
            "Model name:          Intel(R) Xeon(R) CPU @ 2.20GHz\n",
            "Stepping:            0\n",
            "CPU MHz:             2199.998\n",
            "BogoMIPS:            4399.99\n",
            "Hypervisor vendor:   KVM\n",
            "Virtualization type: full\n",
            "L1d cache:           32K\n",
            "L1i cache:           32K\n",
            "L2 cache:            256K\n",
            "L3 cache:            56320K\n",
            "NUMA node0 CPU(s):   0,1\n",
            "Flags:               fpu vme de pse tsc msr pae mce cx8 apic sep mtrr pge mca cmov pat pse36 clflush mmx fxsr sse sse2 ss ht syscall nx pdpe1gb rdtscp lm constant_tsc rep_good nopl xtopology nonstop_tsc cpuid tsc_known_freq pni pclmulqdq ssse3 fma cx16 pcid sse4_1 sse4_2 x2apic movbe popcnt aes xsave avx f16c rdrand hypervisor lahf_lm abm 3dnowprefetch invpcid_single ssbd ibrs ibpb stibp fsgsbase tsc_adjust bmi1 hle avx2 smep bmi2 erms invpcid rtm rdseed adx smap xsaveopt arat md_clear arch_capabilities\n"
          ]
        }
      ]
    },
    {
      "cell_type": "code",
      "source": [
        "# оперативная память\n",
        "!grep MemTotal /proc/meminfo"
      ],
      "metadata": {
        "colab": {
          "base_uri": "https://localhost:8080/"
        },
        "id": "e_AQVQQaoVFR",
        "outputId": "c21b6c3e-6d1e-42d2-96e9-e6a6c519d3b1"
      },
      "execution_count": 7,
      "outputs": [
        {
          "output_type": "stream",
          "name": "stdout",
          "text": [
            "MemTotal:       13297228 kB\n"
          ]
        }
      ]
    },
    {
      "cell_type": "code",
      "source": [
        "# диск\n",
        "!df -h"
      ],
      "metadata": {
        "colab": {
          "base_uri": "https://localhost:8080/"
        },
        "id": "58uYqrEBqrqj",
        "outputId": "e42d2170-f3e3-43a6-a76c-d6461fdbaeb5"
      },
      "execution_count": 8,
      "outputs": [
        {
          "output_type": "stream",
          "name": "stdout",
          "text": [
            "Filesystem      Size  Used Avail Use% Mounted on\n",
            "overlay          79G   27G   52G  35% /\n",
            "tmpfs            64M     0   64M   0% /dev\n",
            "shm             5.7G     0  5.7G   0% /dev/shm\n",
            "/dev/root       2.0G  1.1G  910M  54% /sbin/docker-init\n",
            "tmpfs           6.4G   48K  6.4G   1% /var/colab\n",
            "/dev/sda1        75G   41G   35G  55% /opt/bin/.nvidia\n",
            "tmpfs           6.4G     0  6.4G   0% /proc/acpi\n",
            "tmpfs           6.4G     0  6.4G   0% /proc/scsi\n",
            "tmpfs           6.4G     0  6.4G   0% /sys/firmware\n"
          ]
        }
      ]
    },
    {
      "cell_type": "code",
      "source": [
        "!du -h | sort -h"
      ],
      "metadata": {
        "id": "6AZaA5fOwXXC",
        "colab": {
          "base_uri": "https://localhost:8080/"
        },
        "outputId": "d77a215d-eac7-49d2-8041-e2d555dafccf"
      },
      "execution_count": 9,
      "outputs": [
        {
          "output_type": "stream",
          "name": "stdout",
          "text": [
            "8.0K\t./.config/configurations\n",
            "72K\t./.config/logs/2022.12.01\n",
            "76K\t./.config/logs\n",
            "108K\t./.config\n",
            "55M\t.\n",
            "55M\t./sample_data\n"
          ]
        }
      ]
    },
    {
      "cell_type": "code",
      "source": [
        "# права в Google Colab\n",
        "!whoami"
      ],
      "metadata": {
        "colab": {
          "base_uri": "https://localhost:8080/"
        },
        "id": "gBYRJ67qqMJ2",
        "outputId": "e01d77ef-bb9e-4ec7-d94d-ef143082632b"
      },
      "execution_count": 10,
      "outputs": [
        {
          "output_type": "stream",
          "name": "stdout",
          "text": [
            "root\n"
          ]
        }
      ]
    },
    {
      "cell_type": "markdown",
      "source": [
        "# Библиотека Pytorch"
      ],
      "metadata": {
        "id": "xJef-8rXrMR2"
      }
    },
    {
      "cell_type": "markdown",
      "source": [
        "## Установка"
      ],
      "metadata": {
        "id": "mV8n8faxvOQO"
      }
    },
    {
      "cell_type": "markdown",
      "source": [
        "Ссылки для установки под ваше оборудование можно найти [тут](https://pytorch.org/get-started/locally/)."
      ],
      "metadata": {
        "id": "ZOyzr4Vp2vgZ"
      }
    },
    {
      "cell_type": "code",
      "source": [
        "import torch"
      ],
      "metadata": {
        "id": "b_dqa87wrRMu"
      },
      "execution_count": 11,
      "outputs": []
    },
    {
      "cell_type": "code",
      "source": [
        "torch.cuda.is_available()"
      ],
      "metadata": {
        "colab": {
          "base_uri": "https://localhost:8080/"
        },
        "id": "2vcNoQZ4zVJG",
        "outputId": "7519f7fb-ed0b-4fd7-a519-7270c58af160"
      },
      "execution_count": 12,
      "outputs": [
        {
          "output_type": "execute_result",
          "data": {
            "text/plain": [
              "True"
            ]
          },
          "metadata": {},
          "execution_count": 12
        }
      ]
    },
    {
      "cell_type": "code",
      "source": [
        "!python -m pip list | grep torch"
      ],
      "metadata": {
        "colab": {
          "base_uri": "https://localhost:8080/"
        },
        "id": "Fs_NS9SKzZeH",
        "outputId": "e3425006-5d64-44ca-f886-462e17d727a9"
      },
      "execution_count": 13,
      "outputs": [
        {
          "output_type": "stream",
          "name": "stdout",
          "text": [
            "torch                         1.12.1+cu113\n",
            "torchaudio                    0.12.1+cu113\n",
            "torchsummary                  1.5.1\n",
            "torchtext                     0.13.1\n",
            "torchvision                   0.13.1+cu113\n"
          ]
        }
      ]
    },
    {
      "cell_type": "markdown",
      "source": [
        "## Обзор возможностей и особенностей"
      ],
      "metadata": {
        "id": "W4qhspuX3zOE"
      }
    },
    {
      "cell_type": "markdown",
      "source": [
        "## Тензоры"
      ],
      "metadata": {
        "id": "mzgpHI4wuaPq"
      }
    },
    {
      "cell_type": "code",
      "source": [
        "a = torch.Tensor([1,2,3])\n",
        "a"
      ],
      "metadata": {
        "colab": {
          "base_uri": "https://localhost:8080/"
        },
        "id": "gZ4nzBuys7an",
        "outputId": "1a36f300-ce1f-4046-be8e-042591bea12f"
      },
      "execution_count": 14,
      "outputs": [
        {
          "output_type": "execute_result",
          "data": {
            "text/plain": [
              "tensor([1., 2., 3.])"
            ]
          },
          "metadata": {},
          "execution_count": 14
        }
      ]
    },
    {
      "cell_type": "code",
      "source": [
        "b = torch.tensor([1,2,3])\n",
        "b"
      ],
      "metadata": {
        "colab": {
          "base_uri": "https://localhost:8080/"
        },
        "id": "JLpBNC4Ys-Eu",
        "outputId": "2e2c5982-f98e-4a1c-db13-b735eec86c7f"
      },
      "execution_count": 15,
      "outputs": [
        {
          "output_type": "execute_result",
          "data": {
            "text/plain": [
              "tensor([1, 2, 3])"
            ]
          },
          "metadata": {},
          "execution_count": 15
        }
      ]
    },
    {
      "cell_type": "markdown",
      "source": [
        "Типы данных"
      ],
      "metadata": {
        "id": "tNynZQ_2uc8l"
      }
    },
    {
      "cell_type": "code",
      "source": [
        "a.dtype, b.dtype"
      ],
      "metadata": {
        "colab": {
          "base_uri": "https://localhost:8080/"
        },
        "id": "evWkp5s7tllG",
        "outputId": "0fcd9afc-c162-4523-a810-e5ca489270bd"
      },
      "execution_count": 16,
      "outputs": [
        {
          "output_type": "execute_result",
          "data": {
            "text/plain": [
              "(torch.float32, torch.int64)"
            ]
          },
          "metadata": {},
          "execution_count": 16
        }
      ]
    },
    {
      "cell_type": "markdown",
      "source": [
        "Перевод данных в другой тип"
      ],
      "metadata": {
        "id": "d-ZmOf4Eufk3"
      }
    },
    {
      "cell_type": "code",
      "source": [
        "c = b.float()\n",
        "\n",
        "print(c, c.dtype)\n",
        "\n",
        "print(c.int(), c.int().dtype)\n",
        "print(c.long(), c.long().dtype)\n",
        "print(c.double(), c.double().dtype)"
      ],
      "metadata": {
        "colab": {
          "base_uri": "https://localhost:8080/"
        },
        "id": "KqTujW0xto6G",
        "outputId": "7652dfee-7b5f-4bbf-d7ba-bfd3996482ea"
      },
      "execution_count": 17,
      "outputs": [
        {
          "output_type": "stream",
          "name": "stdout",
          "text": [
            "tensor([1., 2., 3.]) torch.float32\n",
            "tensor([1, 2, 3], dtype=torch.int32) torch.int32\n",
            "tensor([1, 2, 3]) torch.int64\n",
            "tensor([1., 2., 3.], dtype=torch.float64) torch.float64\n"
          ]
        }
      ]
    },
    {
      "cell_type": "code",
      "source": [
        "x = torch.rand(2, 3)\n",
        "print(x) \n",
        "print(x.device)\n",
        "print(x.dtype)"
      ],
      "metadata": {
        "colab": {
          "base_uri": "https://localhost:8080/"
        },
        "id": "KCHM15UEtRY0",
        "outputId": "709a700a-2934-48d2-fb31-c5ab4f1cab57"
      },
      "execution_count": 18,
      "outputs": [
        {
          "output_type": "stream",
          "name": "stdout",
          "text": [
            "tensor([[0.3055, 0.5751, 0.1104],\n",
            "        [0.3983, 0.5368, 0.9664]])\n",
            "cpu\n",
            "torch.float32\n"
          ]
        }
      ]
    },
    {
      "cell_type": "markdown",
      "source": [
        "## Воспроизводимость результатов"
      ],
      "metadata": {
        "id": "Am-la7kqCDEl"
      }
    },
    {
      "cell_type": "code",
      "source": [
        "# для воспроизводимости результатов\n",
        "# не изменяйте и не удаляйте этот код\n",
        "from numpy.random import seed\n",
        "import random\n",
        "import torch\n",
        "\n",
        "random.seed(0)\n",
        "seed(0)\n",
        "torch.manual_seed(0)"
      ],
      "metadata": {
        "id": "DT_4H6vQuWuk",
        "colab": {
          "base_uri": "https://localhost:8080/"
        },
        "outputId": "4fb498cf-3077-4e77-989d-b14a83814116"
      },
      "execution_count": 19,
      "outputs": [
        {
          "output_type": "execute_result",
          "data": {
            "text/plain": [
              "<torch._C.Generator at 0x7ff40621faf0>"
            ]
          },
          "metadata": {},
          "execution_count": 19
        }
      ]
    },
    {
      "cell_type": "code",
      "source": [
        "!pip install pytorch-lightning -qqq"
      ],
      "metadata": {
        "id": "FqnA3ZPhkGul",
        "colab": {
          "base_uri": "https://localhost:8080/"
        },
        "outputId": "49059c53-a068-4692-98cf-d6c8331ae250"
      },
      "execution_count": 20,
      "outputs": [
        {
          "output_type": "stream",
          "name": "stdout",
          "text": [
            "\u001b[K     |████████████████████████████████| 798 kB 38.1 MB/s \n",
            "\u001b[K     |████████████████████████████████| 125 kB 70.4 MB/s \n",
            "\u001b[K     |████████████████████████████████| 512 kB 74.2 MB/s \n",
            "\u001b[K     |████████████████████████████████| 87 kB 3.1 MB/s \n",
            "\u001b[?25h  Building wheel for fire (setup.py) ... \u001b[?25l\u001b[?25hdone\n"
          ]
        }
      ]
    },
    {
      "cell_type": "code",
      "source": [
        "import pytorch_lightning as pl"
      ],
      "metadata": {
        "id": "M2C8FkatkN7D"
      },
      "execution_count": 21,
      "outputs": []
    },
    {
      "cell_type": "code",
      "source": [
        "from pytorch_lightning import seed_everything"
      ],
      "metadata": {
        "id": "lLO_HB6ukaKg"
      },
      "execution_count": 22,
      "outputs": []
    },
    {
      "cell_type": "markdown",
      "source": [
        "Function that sets seed for pseudo-random number generators in: pytorch, numpy, python.random"
      ],
      "metadata": {
        "id": "_fRUnIZCkvhx"
      }
    },
    {
      "cell_type": "code",
      "source": [
        "seed_everything(0, workers=True)                "
      ],
      "metadata": {
        "colab": {
          "base_uri": "https://localhost:8080/"
        },
        "id": "LGhazHGdkhir",
        "outputId": "72bea7fe-52ce-4944-ed13-bf773b0f7377"
      },
      "execution_count": 23,
      "outputs": [
        {
          "output_type": "stream",
          "name": "stderr",
          "text": [
            "INFO:lightning_lite.utilities.seed:Global seed set to 0\n"
          ]
        },
        {
          "output_type": "execute_result",
          "data": {
            "text/plain": [
              "0"
            ]
          },
          "metadata": {},
          "execution_count": 23
        }
      ]
    },
    {
      "cell_type": "markdown",
      "source": [
        "Подробнее можно прочитать [тут](https://pytorch.org/docs/stable/notes/randomness.html)."
      ],
      "metadata": {
        "id": "P8TfCik9DFMf"
      }
    },
    {
      "cell_type": "markdown",
      "source": [
        "## CUDA"
      ],
      "metadata": {
        "id": "eKr7PQlLke2o"
      }
    },
    {
      "cell_type": "code",
      "source": [
        "# проверка доступности видеокарты, выбор устройства CPU или GPU\n",
        "device = torch.device('cuda' if torch.cuda.is_available() else 'cpu')\n",
        "device"
      ],
      "metadata": {
        "colab": {
          "base_uri": "https://localhost:8080/"
        },
        "id": "es3dbo7murKO",
        "outputId": "14951e16-13ce-4428-c1cd-dbb203919a0f"
      },
      "execution_count": 24,
      "outputs": [
        {
          "output_type": "execute_result",
          "data": {
            "text/plain": [
              "device(type='cuda')"
            ]
          },
          "metadata": {},
          "execution_count": 24
        }
      ]
    },
    {
      "cell_type": "markdown",
      "source": [
        "Данные нужно вручную переносить в видеопамять -- метод cuda. Перенос в оперативную память -- cpu. Альтернатива -- использование метода `.to(device)`. По умолчанию данные на cpu."
      ],
      "metadata": {
        "id": "3fTPaJAaC25o"
      }
    },
    {
      "cell_type": "code",
      "source": [
        "d = c.to(device)"
      ],
      "metadata": {
        "id": "t05HLcTEur0L"
      },
      "execution_count": 25,
      "outputs": []
    },
    {
      "cell_type": "code",
      "source": [
        "import torch"
      ],
      "metadata": {
        "id": "9UXt23O4mx54"
      },
      "execution_count": 26,
      "outputs": []
    },
    {
      "cell_type": "code",
      "source": [
        "torch.cuda.get_device_properties(0)"
      ],
      "metadata": {
        "colab": {
          "base_uri": "https://localhost:8080/"
        },
        "id": "Y2VjYSXykhKp",
        "outputId": "e4a6e774-7c5d-4144-c623-80ad44c34446"
      },
      "execution_count": 27,
      "outputs": [
        {
          "output_type": "execute_result",
          "data": {
            "text/plain": [
              "_CudaDeviceProperties(name='Tesla T4', major=7, minor=5, total_memory=15109MB, multi_processor_count=40)"
            ]
          },
          "metadata": {},
          "execution_count": 27
        }
      ]
    },
    {
      "cell_type": "code",
      "source": [
        "!nvidia-smi"
      ],
      "metadata": {
        "colab": {
          "base_uri": "https://localhost:8080/"
        },
        "id": "znSVINf1oN9s",
        "outputId": "5843dde5-828f-4f76-a74f-495ae0ffe814"
      },
      "execution_count": 28,
      "outputs": [
        {
          "output_type": "stream",
          "name": "stdout",
          "text": [
            "Sun Dec  4 17:12:24 2022       \n",
            "+-----------------------------------------------------------------------------+\n",
            "| NVIDIA-SMI 460.32.03    Driver Version: 460.32.03    CUDA Version: 11.2     |\n",
            "|-------------------------------+----------------------+----------------------+\n",
            "| GPU  Name        Persistence-M| Bus-Id        Disp.A | Volatile Uncorr. ECC |\n",
            "| Fan  Temp  Perf  Pwr:Usage/Cap|         Memory-Usage | GPU-Util  Compute M. |\n",
            "|                               |                      |               MIG M. |\n",
            "|===============================+======================+======================|\n",
            "|   0  Tesla T4            Off  | 00000000:00:04.0 Off |                    0 |\n",
            "| N/A   42C    P0    25W /  70W |    612MiB / 15109MiB |      0%      Default |\n",
            "|                               |                      |                  N/A |\n",
            "+-------------------------------+----------------------+----------------------+\n",
            "                                                                               \n",
            "+-----------------------------------------------------------------------------+\n",
            "| Processes:                                                                  |\n",
            "|  GPU   GI   CI        PID   Type   Process name                  GPU Memory |\n",
            "|        ID   ID                                                   Usage      |\n",
            "|=============================================================================|\n",
            "+-----------------------------------------------------------------------------+\n"
          ]
        }
      ]
    },
    {
      "cell_type": "code",
      "source": [
        "def allocate_empty_tensor(dim_size):\n",
        "  a=torch.zeros(4096,dim_size,dtype=torch.float32,device='cuda')"
      ],
      "metadata": {
        "id": "BWsfUTi0oQnG"
      },
      "execution_count": 29,
      "outputs": []
    },
    {
      "cell_type": "code",
      "source": [
        "allocate_empty_tensor(2048)"
      ],
      "metadata": {
        "id": "pvUBeD9-phd2"
      },
      "execution_count": 30,
      "outputs": []
    },
    {
      "cell_type": "code",
      "source": [
        "torch.cuda.memory_allocated()"
      ],
      "metadata": {
        "colab": {
          "base_uri": "https://localhost:8080/"
        },
        "id": "qpJLSkedpdVK",
        "outputId": "3b7d3540-ad71-4792-f0c6-8dc55835ee4f"
      },
      "execution_count": 31,
      "outputs": [
        {
          "output_type": "execute_result",
          "data": {
            "text/plain": [
              "512"
            ]
          },
          "metadata": {},
          "execution_count": 31
        }
      ]
    },
    {
      "cell_type": "code",
      "source": [
        "torch.cuda.memory_reserved()"
      ],
      "metadata": {
        "colab": {
          "base_uri": "https://localhost:8080/"
        },
        "id": "PNbeLhzbp8Ch",
        "outputId": "423f6c97-fbbe-4719-d4e5-c9e5413dc744"
      },
      "execution_count": 32,
      "outputs": [
        {
          "output_type": "execute_result",
          "data": {
            "text/plain": [
              "35651584"
            ]
          },
          "metadata": {},
          "execution_count": 32
        }
      ]
    },
    {
      "cell_type": "code",
      "source": [
        "!nvidia-smi"
      ],
      "metadata": {
        "colab": {
          "base_uri": "https://localhost:8080/"
        },
        "id": "mN8IHOIcplaL",
        "outputId": "4a8c68b9-575f-487c-d9f0-5e16f82d22a8"
      },
      "execution_count": 33,
      "outputs": [
        {
          "output_type": "stream",
          "name": "stdout",
          "text": [
            "Sun Dec  4 17:12:24 2022       \n",
            "+-----------------------------------------------------------------------------+\n",
            "| NVIDIA-SMI 460.32.03    Driver Version: 460.32.03    CUDA Version: 11.2     |\n",
            "|-------------------------------+----------------------+----------------------+\n",
            "| GPU  Name        Persistence-M| Bus-Id        Disp.A | Volatile Uncorr. ECC |\n",
            "| Fan  Temp  Perf  Pwr:Usage/Cap|         Memory-Usage | GPU-Util  Compute M. |\n",
            "|                               |                      |               MIG M. |\n",
            "|===============================+======================+======================|\n",
            "|   0  Tesla T4            Off  | 00000000:00:04.0 Off |                    0 |\n",
            "| N/A   42C    P0    25W /  70W |    644MiB / 15109MiB |      0%      Default |\n",
            "|                               |                      |                  N/A |\n",
            "+-------------------------------+----------------------+----------------------+\n",
            "                                                                               \n",
            "+-----------------------------------------------------------------------------+\n",
            "| Processes:                                                                  |\n",
            "|  GPU   GI   CI        PID   Type   Process name                  GPU Memory |\n",
            "|        ID   ID                                                   Usage      |\n",
            "|=============================================================================|\n",
            "+-----------------------------------------------------------------------------+\n"
          ]
        }
      ]
    },
    {
      "cell_type": "code",
      "source": [
        "allocate_empty_tensor(3072)"
      ],
      "metadata": {
        "id": "3yNsBe_Apxlv"
      },
      "execution_count": 34,
      "outputs": []
    },
    {
      "cell_type": "code",
      "source": [
        "torch.cuda.memory_reserved()"
      ],
      "metadata": {
        "colab": {
          "base_uri": "https://localhost:8080/"
        },
        "id": "Gbj8FG_GqFUG",
        "outputId": "d7a883c2-f8f9-4b4e-c16e-0a1d5527527d"
      },
      "execution_count": 35,
      "outputs": [
        {
          "output_type": "execute_result",
          "data": {
            "text/plain": [
              "85983232"
            ]
          },
          "metadata": {},
          "execution_count": 35
        }
      ]
    },
    {
      "cell_type": "code",
      "source": [
        "!nvidia-smi"
      ],
      "metadata": {
        "colab": {
          "base_uri": "https://localhost:8080/"
        },
        "id": "99PZakMWp3ZR",
        "outputId": "17a306c9-07ce-43a7-f688-9749c6ffb780"
      },
      "execution_count": 36,
      "outputs": [
        {
          "output_type": "stream",
          "name": "stdout",
          "text": [
            "Sun Dec  4 17:12:24 2022       \n",
            "+-----------------------------------------------------------------------------+\n",
            "| NVIDIA-SMI 460.32.03    Driver Version: 460.32.03    CUDA Version: 11.2     |\n",
            "|-------------------------------+----------------------+----------------------+\n",
            "| GPU  Name        Persistence-M| Bus-Id        Disp.A | Volatile Uncorr. ECC |\n",
            "| Fan  Temp  Perf  Pwr:Usage/Cap|         Memory-Usage | GPU-Util  Compute M. |\n",
            "|                               |                      |               MIG M. |\n",
            "|===============================+======================+======================|\n",
            "|   0  Tesla T4            Off  | 00000000:00:04.0 Off |                    0 |\n",
            "| N/A   42C    P0    25W /  70W |    692MiB / 15109MiB |      0%      Default |\n",
            "|                               |                      |                  N/A |\n",
            "+-------------------------------+----------------------+----------------------+\n",
            "                                                                               \n",
            "+-----------------------------------------------------------------------------+\n",
            "| Processes:                                                                  |\n",
            "|  GPU   GI   CI        PID   Type   Process name                  GPU Memory |\n",
            "|        ID   ID                                                   Usage      |\n",
            "|=============================================================================|\n",
            "+-----------------------------------------------------------------------------+\n"
          ]
        }
      ]
    },
    {
      "cell_type": "code",
      "source": [
        "torch.cuda.empty_cache()\n",
        "torch.cuda.memory_reserved()"
      ],
      "metadata": {
        "colab": {
          "base_uri": "https://localhost:8080/"
        },
        "id": "hIAzc2PFqLRj",
        "outputId": "bd8114c3-e96f-46b0-ec4e-22e581667d89"
      },
      "execution_count": 37,
      "outputs": [
        {
          "output_type": "execute_result",
          "data": {
            "text/plain": [
              "2097152"
            ]
          },
          "metadata": {},
          "execution_count": 37
        }
      ]
    },
    {
      "cell_type": "code",
      "source": [
        "!nvidia-smi"
      ],
      "metadata": {
        "colab": {
          "base_uri": "https://localhost:8080/"
        },
        "id": "LlhvCLl0qNil",
        "outputId": "94ae3196-549e-4672-a171-7ce8693b7165"
      },
      "execution_count": 38,
      "outputs": [
        {
          "output_type": "stream",
          "name": "stdout",
          "text": [
            "Sun Dec  4 17:12:25 2022       \n",
            "+-----------------------------------------------------------------------------+\n",
            "| NVIDIA-SMI 460.32.03    Driver Version: 460.32.03    CUDA Version: 11.2     |\n",
            "|-------------------------------+----------------------+----------------------+\n",
            "| GPU  Name        Persistence-M| Bus-Id        Disp.A | Volatile Uncorr. ECC |\n",
            "| Fan  Temp  Perf  Pwr:Usage/Cap|         Memory-Usage | GPU-Util  Compute M. |\n",
            "|                               |                      |               MIG M. |\n",
            "|===============================+======================+======================|\n",
            "|   0  Tesla T4            Off  | 00000000:00:04.0 Off |                    0 |\n",
            "| N/A   42C    P0    25W /  70W |    612MiB / 15109MiB |      0%      Default |\n",
            "|                               |                      |                  N/A |\n",
            "+-------------------------------+----------------------+----------------------+\n",
            "                                                                               \n",
            "+-----------------------------------------------------------------------------+\n",
            "| Processes:                                                                  |\n",
            "|  GPU   GI   CI        PID   Type   Process name                  GPU Memory |\n",
            "|        ID   ID                                                   Usage      |\n",
            "|=============================================================================|\n",
            "+-----------------------------------------------------------------------------+\n"
          ]
        }
      ]
    },
    {
      "cell_type": "code",
      "source": [],
      "metadata": {
        "id": "mYQNvmRT66lX"
      },
      "execution_count": 38,
      "outputs": []
    },
    {
      "cell_type": "code",
      "source": [
        "allocate_empty_tensor(600000)\n",
        "torch.cuda.memory_reserved()"
      ],
      "metadata": {
        "colab": {
          "base_uri": "https://localhost:8080/"
        },
        "id": "AmgQgvNKrBt5",
        "outputId": "1f2d62f5-7050-4bcb-b274-68c559050a9f"
      },
      "execution_count": 39,
      "outputs": [
        {
          "output_type": "execute_result",
          "data": {
            "text/plain": [
              "9833545728"
            ]
          },
          "metadata": {},
          "execution_count": 39
        }
      ]
    },
    {
      "cell_type": "markdown",
      "source": [
        "## Точность"
      ],
      "metadata": {
        "id": "mleBdxygtTPs"
      }
    },
    {
      "cell_type": "code",
      "source": [
        "import torch\n",
        "torch.manual_seed(1337)\n",
        "x = torch.randn(5000, 5000)\n",
        "print(x[0, 0])\n",
        "print(x.size())\n",
        "\n",
        "def matrix_power(x):\n",
        "  y = x @ x @ x @ x @ x @ x\n",
        "  return (y).sum().item()\n",
        "\n",
        "print(matrix_power(x))\n",
        "print(matrix_power(x.cuda()))\n",
        "print(x.dtype)"
      ],
      "metadata": {
        "colab": {
          "base_uri": "https://localhost:8080/"
        },
        "id": "DjHSkmVCtVy9",
        "outputId": "0a72085c-ed55-4db4-aa5a-502727bec079"
      },
      "execution_count": 40,
      "outputs": [
        {
          "output_type": "stream",
          "name": "stdout",
          "text": [
            "tensor(0.1808)\n",
            "torch.Size([5000, 5000])\n",
            "27654770130944.0\n",
            "27654807879680.0\n",
            "torch.float32\n"
          ]
        }
      ]
    },
    {
      "cell_type": "code",
      "source": [
        "import numpy as np\n",
        "print(matrix_power(x.numpy()))\n",
        "np.linalg.matrix_power(x.numpy(),6).sum()"
      ],
      "metadata": {
        "id": "Beplf35tnJ5x",
        "colab": {
          "base_uri": "https://localhost:8080/"
        },
        "outputId": "358e225f-56f8-4d4d-b6aa-47925d4942c5"
      },
      "execution_count": 43,
      "outputs": [
        {
          "output_type": "stream",
          "name": "stdout",
          "text": [
            "27654791102464.0\n"
          ]
        },
        {
          "output_type": "execute_result",
          "data": {
            "text/plain": [
              "27654774000000.0"
            ]
          },
          "metadata": {},
          "execution_count": 43
        }
      ]
    },
    {
      "cell_type": "markdown",
      "source": [
        "Takeaway: numerical precision of floating point computations can vary between libraries, environments and devices, and from the user side, it is often hard to resolve this issue altogether. Usually, this happens due to a different summation order in code or due to inherent nondeterminism of hardware.\n",
        "\n",
        "However, note that the relative error is small enough, which makes such blatant discrepancies less of a problem in regular deep learning code.\n"
      ],
      "metadata": {
        "id": "Dc1_1MmXnNTP"
      }
    },
    {
      "cell_type": "markdown",
      "source": [
        "## Нейроны и линейные слои"
      ],
      "metadata": {
        "id": "64d_Ywznwgbn"
      }
    },
    {
      "cell_type": "markdown",
      "source": [
        "![alt text](https://drive.google.com/uc?export=view&id=1k96ch-5lAGYrfBk4xgoty93xy-GP2bhr)\n"
      ],
      "metadata": {
        "id": "-OBSxEORsEMG"
      }
    },
    {
      "cell_type": "markdown",
      "source": [
        "![alt text](https://drive.google.com/uc?export=view&id=1ORawq1pZJ7a2z7vUD2PPyLELkOHoAB51)"
      ],
      "metadata": {
        "id": "4kiuzSRBQAte"
      }
    },
    {
      "cell_type": "markdown",
      "source": [
        "![изображение.png](data:image/png;base64,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)"
      ],
      "metadata": {
        "id": "TEFP_hPO5MO5"
      }
    },
    {
      "cell_type": "markdown",
      "source": [
        "![изображение.png](data:image/png;base64,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)"
      ],
      "metadata": {
        "id": "_gZo-8fW3PLu"
      }
    },
    {
      "cell_type": "code",
      "source": [
        "batch_size = 2 # Количество покупателей\n",
        "w = 4          # Количество существующих товаров\n",
        "m = 3          # Количество существующих магазинов\n",
        "\n",
        "# Матрица покупателей\n",
        "X = torch.rand(batch_size, w)\n",
        "\n",
        "# Матрица цен в магазине\n",
        "W = torch.rand(m,w)\n",
        "\n",
        "# Цена за топливо\n",
        "b = torch.rand(m)\n",
        "\n",
        "print(X.shape, W.shape, b.shape)\n",
        "\n",
        "print(X)\n",
        "\n",
        "answer = X @ W.T + b\n",
        "answer.shape"
      ],
      "metadata": {
        "colab": {
          "base_uri": "https://localhost:8080/"
        },
        "id": "nSl2PWA9JUpE",
        "outputId": "a23994af-2bec-47fe-eac6-2593d85cbfc0"
      },
      "execution_count": 44,
      "outputs": [
        {
          "output_type": "stream",
          "name": "stdout",
          "text": [
            "torch.Size([2, 4]) torch.Size([3, 4]) torch.Size([3])\n",
            "tensor([[0.5997, 0.7686, 0.8438, 0.6866],\n",
            "        [0.9745, 0.5593, 0.4227, 0.4468]])\n"
          ]
        },
        {
          "output_type": "execute_result",
          "data": {
            "text/plain": [
              "torch.Size([2, 3])"
            ]
          },
          "metadata": {},
          "execution_count": 44
        }
      ]
    },
    {
      "cell_type": "code",
      "source": [
        "linear = torch.nn.Linear(4, 3)\n",
        "out = linear(X)\n",
        "out.shape"
      ],
      "metadata": {
        "id": "fI3aho-92ik5",
        "colab": {
          "base_uri": "https://localhost:8080/"
        },
        "outputId": "c921a23e-d052-4f68-d156-667a04a74513"
      },
      "execution_count": 51,
      "outputs": [
        {
          "output_type": "execute_result",
          "data": {
            "text/plain": [
              "torch.Size([2, 3])"
            ]
          },
          "metadata": {},
          "execution_count": 51
        }
      ]
    },
    {
      "cell_type": "code",
      "source": [
        "linear.weight.data.shape"
      ],
      "metadata": {
        "id": "c4xuSW9EuxAx",
        "colab": {
          "base_uri": "https://localhost:8080/"
        },
        "outputId": "7578a1cc-cac4-4c4f-ba3f-7268730eda66"
      },
      "execution_count": 46,
      "outputs": [
        {
          "output_type": "execute_result",
          "data": {
            "text/plain": [
              "torch.Size([3, 4])"
            ]
          },
          "metadata": {},
          "execution_count": 46
        }
      ]
    },
    {
      "cell_type": "markdown",
      "source": [
        "### Встроенные слои"
      ],
      "metadata": {
        "id": "YS4WszpAvJl4"
      }
    },
    {
      "cell_type": "code",
      "source": [
        "from torch import nn # модуль с базовыми слоями\n",
        "import torch.nn.functional as F # модуль с базовыми функциями"
      ],
      "metadata": {
        "id": "N5BaifEM4rVz"
      },
      "execution_count": 47,
      "outputs": []
    },
    {
      "cell_type": "code",
      "source": [
        "dir(nn)[:10]"
      ],
      "metadata": {
        "colab": {
          "base_uri": "https://localhost:8080/"
        },
        "id": "UCzQK0As5BQM",
        "outputId": "7303ab23-c414-4d9c-ec7b-9aaa40d2b29f"
      },
      "execution_count": 48,
      "outputs": [
        {
          "output_type": "execute_result",
          "data": {
            "text/plain": [
              "['AdaptiveAvgPool1d',\n",
              " 'AdaptiveAvgPool2d',\n",
              " 'AdaptiveAvgPool3d',\n",
              " 'AdaptiveLogSoftmaxWithLoss',\n",
              " 'AdaptiveMaxPool1d',\n",
              " 'AdaptiveMaxPool2d',\n",
              " 'AdaptiveMaxPool3d',\n",
              " 'AlphaDropout',\n",
              " 'AvgPool1d',\n",
              " 'AvgPool2d']"
            ]
          },
          "metadata": {},
          "execution_count": 48
        }
      ]
    },
    {
      "cell_type": "markdown",
      "metadata": {
        "id": "34ox66u1jNBG"
      },
      "source": [
        "Два способа создания нейросети:\n",
        "  1. на основе готового класса `nn.Sequential` объединяющего отдельные слои\n",
        "    - данные передаются по сети в том порядке, в каком объявлены слои\n",
        "    - функции активации задаются как отдельные слои\n",
        "  2. свой класс для нейросети, на основе `nn.Module`\n",
        "    - порядок передачи данных можно менять во время обучения, переопределив forward - динамический граф вычислений\n",
        "\n",
        "Первый способ стоит использовать только как контейнер для ряда слоев. Неросеть нужно наследовать от `nn.Module`.\n"
      ]
    },
    {
      "cell_type": "code",
      "source": [
        "device = 'cuda'\n",
        "net_seq = nn.Sequential(\n",
        "    nn.Linear(in_features=3, out_features=5),\n",
        "    nn.Sigmoid(),\n",
        "    nn.Linear(in_features=5, out_features=2),                                                            \n",
        ")\n",
        "net_seq.to(device)\n",
        "net_seq\n",
        "X = torch.rand(3)"
      ],
      "metadata": {
        "id": "H17RdEIv7aOT"
      },
      "execution_count": 53,
      "outputs": []
    },
    {
      "cell_type": "code",
      "source": [
        "net_seq(X.to(device))"
      ],
      "metadata": {
        "id": "v2xerVJ983e_",
        "colab": {
          "base_uri": "https://localhost:8080/"
        },
        "outputId": "d406d0f6-086f-4fe4-d99a-989900468c7c"
      },
      "execution_count": 54,
      "outputs": [
        {
          "output_type": "execute_result",
          "data": {
            "text/plain": [
              "tensor([ 0.3945, -0.6897], device='cuda:0', grad_fn=<AddBackward0>)"
            ]
          },
          "metadata": {},
          "execution_count": 54
        }
      ]
    },
    {
      "cell_type": "code",
      "source": [
        "class Model(nn.Module):\n",
        "    def __init__(self):\n",
        "        super().__init__()\n",
        "        self.fc1 = nn.Linear(in_features=3, out_features=5)\n",
        "        self.fc2 = nn.Linear(in_features=5, out_features=2)\n",
        "\n",
        "    def forward(self, x):\n",
        "        x = self.fc1(x)\n",
        "        return F.sigmoid(self.fc2(x))"
      ],
      "metadata": {
        "id": "Xt4BPLs3-7DT"
      },
      "execution_count": 55,
      "outputs": []
    },
    {
      "cell_type": "code",
      "source": [
        "net_model = Model()\n",
        "net_model.to(device)\n",
        "net_model"
      ],
      "metadata": {
        "id": "n7csNM12_UYG",
        "colab": {
          "base_uri": "https://localhost:8080/"
        },
        "outputId": "b7f3a4e1-9ebd-45da-bffb-a1cefff2f431"
      },
      "execution_count": 57,
      "outputs": [
        {
          "output_type": "execute_result",
          "data": {
            "text/plain": [
              "Model(\n",
              "  (fc1): Linear(in_features=3, out_features=5, bias=True)\n",
              "  (fc2): Linear(in_features=5, out_features=2, bias=True)\n",
              ")"
            ]
          },
          "metadata": {},
          "execution_count": 57
        }
      ]
    },
    {
      "cell_type": "markdown",
      "source": [
        "### **Задача 1**. Посчитайте количество обучаемых параметров в сети net_seq и net_model."
      ],
      "metadata": {
        "id": "7bIrvcYJ_5jK"
      }
    },
    {
      "cell_type": "code",
      "source": [
        "#!pip install torchsummary\n",
        "\n",
        "from torchsummary import summary\n",
        "\n",
        "summary(net_model, (1, 2, 3))\n",
        "summary(net_seq, (1, 2, 3))"
      ],
      "metadata": {
        "id": "V_yJTNuxwIcl",
        "colab": {
          "base_uri": "https://localhost:8080/"
        },
        "outputId": "718d1a6f-d108-4360-fc32-524357e4bfde"
      },
      "execution_count": 58,
      "outputs": [
        {
          "output_type": "stream",
          "name": "stdout",
          "text": [
            "----------------------------------------------------------------\n",
            "        Layer (type)               Output Shape         Param #\n",
            "================================================================\n",
            "            Linear-1              [-1, 1, 2, 5]              20\n",
            "            Linear-2              [-1, 1, 2, 2]              12\n",
            "================================================================\n",
            "Total params: 32\n",
            "Trainable params: 32\n",
            "Non-trainable params: 0\n",
            "----------------------------------------------------------------\n",
            "Input size (MB): 0.00\n",
            "Forward/backward pass size (MB): 0.00\n",
            "Params size (MB): 0.00\n",
            "Estimated Total Size (MB): 0.00\n",
            "----------------------------------------------------------------\n",
            "----------------------------------------------------------------\n",
            "        Layer (type)               Output Shape         Param #\n",
            "================================================================\n",
            "            Linear-1              [-1, 1, 2, 5]              20\n",
            "           Sigmoid-2              [-1, 1, 2, 5]               0\n",
            "            Linear-3              [-1, 1, 2, 2]              12\n",
            "================================================================\n",
            "Total params: 32\n",
            "Trainable params: 32\n",
            "Non-trainable params: 0\n",
            "----------------------------------------------------------------\n",
            "Input size (MB): 0.00\n",
            "Forward/backward pass size (MB): 0.00\n",
            "Params size (MB): 0.00\n",
            "Estimated Total Size (MB): 0.00\n",
            "----------------------------------------------------------------\n"
          ]
        },
        {
          "output_type": "stream",
          "name": "stderr",
          "text": [
            "/usr/local/lib/python3.8/dist-packages/torch/nn/functional.py:1960: UserWarning: nn.functional.sigmoid is deprecated. Use torch.sigmoid instead.\n",
            "  warnings.warn(\"nn.functional.sigmoid is deprecated. Use torch.sigmoid instead.\")\n"
          ]
        }
      ]
    },
    {
      "cell_type": "markdown",
      "source": [
        "# Введение в глубокое обучение"
      ],
      "metadata": {
        "id": "-B0jOvkQE4MQ"
      }
    },
    {
      "cell_type": "code",
      "source": [
        "import numpy as np\n",
        "import torch"
      ],
      "metadata": {
        "id": "K3qDkWpcRTWZ"
      },
      "execution_count": 59,
      "outputs": []
    },
    {
      "cell_type": "markdown",
      "source": [
        "![alt text](https://drive.google.com/uc?export=view&id=19I2SrQHTO4njMHwCYh8fcaX-qOcKKy2A)"
      ],
      "metadata": {
        "id": "sVIkrL0-ZjpO"
      }
    },
    {
      "cell_type": "markdown",
      "source": [
        "## **Задача 2**. Cделать нейрон, соответствующий оператору НЕ."
      ],
      "metadata": {
        "id": "9P9bWaC9QQJm"
      }
    },
    {
      "cell_type": "code",
      "source": [
        "class Neuron(torch.nn.Module):\n",
        "  def __init__(self):\n",
        "    super().__init__()\n",
        "    self.fc = nn.Linear(1, 1)\n",
        "\n",
        "  def forward(self, x):\n",
        "    return torch.heaviside(self.fc(x), torch.tensor([0.0]))"
      ],
      "metadata": {
        "id": "Hh8sSJkEWNmT"
      },
      "execution_count": 60,
      "outputs": []
    },
    {
      "cell_type": "code",
      "source": [
        "neuron = Neuron()\n",
        "neuron.fc.weight, neuron.fc.bias"
      ],
      "metadata": {
        "id": "r9HoH1koVQXi",
        "colab": {
          "base_uri": "https://localhost:8080/"
        },
        "outputId": "75b66cc5-4328-48bd-f1af-d8c83762c9f3"
      },
      "execution_count": 61,
      "outputs": [
        {
          "output_type": "execute_result",
          "data": {
            "text/plain": [
              "(Parameter containing:\n",
              " tensor([[-0.3808]], requires_grad=True), Parameter containing:\n",
              " tensor([0.4640], requires_grad=True))"
            ]
          },
          "metadata": {},
          "execution_count": 61
        }
      ]
    },
    {
      "cell_type": "code",
      "source": [
        "neuron.fc.weight.data = torch.tensor([[-0.6]])\n",
        "neuron.fc.bias.data = torch.tensor([0.5])\n",
        "neuron.fc.weight, neuron.fc.bias"
      ],
      "metadata": {
        "id": "MLmGhtWFTYlV",
        "colab": {
          "base_uri": "https://localhost:8080/"
        },
        "outputId": "145d209f-17f5-4789-9a93-39351a5f4603"
      },
      "execution_count": 62,
      "outputs": [
        {
          "output_type": "execute_result",
          "data": {
            "text/plain": [
              "(Parameter containing:\n",
              " tensor([[-0.6000]], requires_grad=True), Parameter containing:\n",
              " tensor([0.5000], requires_grad=True))"
            ]
          },
          "metadata": {},
          "execution_count": 62
        }
      ]
    },
    {
      "cell_type": "code",
      "source": [
        "x = torch.tensor([0.0])\n",
        "print(neuron(x))\n",
        "\n",
        "x = torch.tensor([1.0])\n",
        "print(neuron(x))"
      ],
      "metadata": {
        "id": "UFr5InkDTf-r",
        "colab": {
          "base_uri": "https://localhost:8080/"
        },
        "outputId": "23ede986-8c2c-4907-e58d-001663cfd221"
      },
      "execution_count": 63,
      "outputs": [
        {
          "output_type": "stream",
          "name": "stdout",
          "text": [
            "tensor([1.], grad_fn=<NotImplemented>)\n",
            "tensor([0.], grad_fn=<NotImplemented>)\n"
          ]
        }
      ]
    },
    {
      "cell_type": "markdown",
      "source": [
        "## **Задача 3**. Cделать нейрон, соответствующий оператору И."
      ],
      "metadata": {
        "id": "TRxJxcRJQsMz"
      }
    },
    {
      "cell_type": "code",
      "source": [
        "import torch\n",
        "class Neuron(torch.nn.Module):\n",
        "  def __init__(self):\n",
        "    super().__init__()\n",
        "    self.fc = torch.nn.Linear(2, 1)\n",
        "\n",
        "  def forward(self, x):\n",
        "    return torch.heaviside(self.fc(x), torch.tensor([0.0]))"
      ],
      "metadata": {
        "id": "7dvDtA7HX3V6"
      },
      "execution_count": 64,
      "outputs": []
    },
    {
      "cell_type": "code",
      "source": [
        "neuron = Neuron()\n",
        "neuron.fc.weight, neuron.fc.bias"
      ],
      "metadata": {
        "id": "olMqAnQtX5NQ",
        "colab": {
          "base_uri": "https://localhost:8080/"
        },
        "outputId": "1d5c1c99-cd77-40f7-e6f4-9a1dde68a206"
      },
      "execution_count": 65,
      "outputs": [
        {
          "output_type": "execute_result",
          "data": {
            "text/plain": [
              "(Parameter containing:\n",
              " tensor([[-0.1402,  0.3836]], requires_grad=True), Parameter containing:\n",
              " tensor([0.2378], requires_grad=True))"
            ]
          },
          "metadata": {},
          "execution_count": 65
        }
      ]
    },
    {
      "cell_type": "code",
      "source": [
        "neuron.fc.weight.data = torch.tensor([[0.1, 0.1]])\n",
        "neuron.fc.bias.data = torch.tensor([-0.15])"
      ],
      "metadata": {
        "id": "kAtwMX7HQ0aj"
      },
      "execution_count": 66,
      "outputs": []
    },
    {
      "cell_type": "code",
      "source": [
        "x = torch.tensor([0.0, 0.0])\n",
        "print(neuron(x))\n",
        "\n",
        "x = torch.tensor([1.0, 0.0])\n",
        "print(neuron(x))\n",
        "\n",
        "x = torch.tensor([0.0, 1.0])\n",
        "print(neuron(x))\n",
        "\n",
        "x = torch.tensor([1.0, 1.0])\n",
        "print(neuron(x))"
      ],
      "metadata": {
        "id": "P27EdNkrXloh",
        "colab": {
          "base_uri": "https://localhost:8080/"
        },
        "outputId": "d269ff49-c76e-4cb2-abd3-427d11dec45f"
      },
      "execution_count": 67,
      "outputs": [
        {
          "output_type": "stream",
          "name": "stdout",
          "text": [
            "tensor([0.], grad_fn=<NotImplemented>)\n",
            "tensor([0.], grad_fn=<NotImplemented>)\n",
            "tensor([0.], grad_fn=<NotImplemented>)\n",
            "tensor([1.], grad_fn=<NotImplemented>)\n"
          ]
        }
      ]
    },
    {
      "cell_type": "markdown",
      "source": [
        "## **Задача 4**. Cделать нейрон, соответствующий оператору ИЛИ."
      ],
      "metadata": {
        "id": "MRuSrP7JQ00i"
      }
    },
    {
      "cell_type": "code",
      "source": [
        "neuron.fc.weight.data = torch.tensor([[0.2, 0.2]])\n",
        "neuron.fc.bias.data = torch.tensor([-0.1])"
      ],
      "metadata": {
        "id": "23RuhFqbQ24-"
      },
      "execution_count": 68,
      "outputs": []
    },
    {
      "cell_type": "code",
      "source": [
        "x = torch.tensor([0.0, 0.0])\n",
        "print(neuron(x))\n",
        "\n",
        "x = torch.tensor([1.0, 0.0])\n",
        "print(neuron(x))\n",
        "\n",
        "x = torch.tensor([0.0, 1.0])\n",
        "print(neuron(x))\n",
        "\n",
        "x = torch.tensor([1.0, 1.0])\n",
        "print(neuron(x))"
      ],
      "metadata": {
        "id": "i-BZHFqnXpLL",
        "colab": {
          "base_uri": "https://localhost:8080/"
        },
        "outputId": "1cc26abf-9c7b-4ddc-e6f5-8d33b41ee294"
      },
      "execution_count": 69,
      "outputs": [
        {
          "output_type": "stream",
          "name": "stdout",
          "text": [
            "tensor([0.], grad_fn=<NotImplemented>)\n",
            "tensor([1.], grad_fn=<NotImplemented>)\n",
            "tensor([1.], grad_fn=<NotImplemented>)\n",
            "tensor([1.], grad_fn=<NotImplemented>)\n"
          ]
        }
      ]
    },
    {
      "cell_type": "markdown",
      "source": [
        "## **Задача 5**. Cделать нейрон, соответствующий оператору XOR."
      ],
      "metadata": {
        "id": "1b95Z8u7Q3OL"
      }
    },
    {
      "cell_type": "markdown",
      "source": [
        "XOR нельзя сделать на одном нейроне"
      ],
      "metadata": {
        "id": "G2Fn8496uLaO"
      }
    },
    {
      "cell_type": "markdown",
      "source": [
        "## **Вопрос 1**. Какие нейронные сети могут иметь только линейную разделяющую поверхность?"
      ],
      "metadata": {
        "id": "OiPV2u5zfwyo"
      }
    },
    {
      "cell_type": "markdown",
      "source": [
        "Сети, состоящие из одного нейрона, или сети, в которых между слоями нет функций активации"
      ],
      "metadata": {
        "id": "eNi4IwB8f9yK"
      }
    },
    {
      "cell_type": "markdown",
      "source": [
        "## **Вопрос 2**. Имеет ли смысл соединять полносвязанные нейроны (нейроны, которые принимают на вход все выходы предыдущего слоя) с линейной функцией активации в многослойную нейронную сеть?"
      ],
      "metadata": {
        "id": "uEf1aXsdgLBh"
      }
    },
    {
      "cell_type": "markdown",
      "source": [
        "Нет, так сеть, состоящая из идущих друг за другом линейных слои с линейной функции активации (f(x)=x), будет подобно сетью с одним линейным слоем"
      ],
      "metadata": {
        "id": "Jy06MWy-gQCh"
      }
    },
    {
      "cell_type": "markdown",
      "source": [
        "# Домашнее задание"
      ],
      "metadata": {
        "id": "DJ9Uxo7DEns4"
      }
    },
    {
      "cell_type": "markdown",
      "source": [
        "Дедлайн домашнего задания - текущее воскресенье 23:59. "
      ],
      "metadata": {
        "id": "3hbaklz_96EN"
      }
    },
    {
      "cell_type": "markdown",
      "source": [
        "**Домашнее задание 0:** Создайте репозиторий на Github. Вся дальнейшая домашка загружается туда. Чуть позже в телеграм чате будет выложена форма для сдачи."
      ],
      "metadata": {
        "id": "E7VzrzlHyyci"
      }
    },
    {
      "cell_type": "markdown",
      "source": [
        "**Домашнее задание 1:** реализуйте XOR с помощью 3 нейронов. Запишите ответ в виде выражения, состоящего из объектов neuron() – моделей нейрона с пороговой функцией активации, внутри скобок может быть что угодно. Входы верхнего уровня называются x1 и x2. Пример фрагмента записи: neuron(1*x1 + 5*x2 - 0.1) + neuron(x1) (ответ будет выглядеть чуть сложнее, но других символов вроде && не потребуется)."
      ],
      "metadata": {
        "id": "me6riR-YEuYg"
      }
    },
    {
      "cell_type": "code",
      "source": [
        "# версия 1\n",
        "class Neuron(torch.nn.Module):\n",
        "    def __init__(self):\n",
        "        super().__init__()\n",
        "    def forward(self, x):\n",
        "        return torch.heaviside(x, torch.tensor([0.0]))\n",
        "\n",
        "neuron = Neuron()\n",
        "\n",
        "def forward(x1, x2):\n",
        "    return neuron(neuron(x1+x2-0.5) - neuron(x1+x2-1.5) - 0.5)"
      ],
      "metadata": {
        "id": "jThOHaMq0tWP"
      },
      "execution_count": 70,
      "outputs": []
    },
    {
      "cell_type": "code",
      "source": [
        "# версия 2 \n",
        "class Neuron2(torch.nn.Module):\n",
        "  def __init__(self):\n",
        "    super().__init__()\n",
        "    self.linear1 = torch.nn.Linear(2, 2)\n",
        "    self.linear2 = torch.nn.Linear(2, 1)\n",
        "\n",
        "  def forward(self, x):\n",
        "      x = self.linear1(x)\n",
        "      x = torch.heaviside(x, torch.tensor([0.0]))\n",
        "      return torch.heaviside(self.linear2(x), torch.tensor([0.0]))\n",
        "\n",
        "neuron2 = Neuron2()\n",
        "neuron2.linear1.weight.data = torch.tensor([[1.0, 1.0],\n",
        "                                            [1.0, 1.0]])\n",
        "neuron2.linear1.bias.data = torch.tensor([-1.5, -0.5])\n",
        "\n",
        "neuron2.linear2.weight.data = torch.tensor([[-1.0, 1.0]])\n",
        "neuron2.linear2.bias.data = torch.tensor([-0.5])"
      ],
      "metadata": {
        "id": "e3KQscgfxYL3"
      },
      "execution_count": 71,
      "outputs": []
    },
    {
      "cell_type": "code",
      "source": [
        "x = torch.tensor([0.0, 0.0])\n",
        "print(x, '\\t', forward(x[0], x[1]), '\\t', neuron2(x).detach())\n",
        "\n",
        "x = torch.tensor([1.0, 0.0])\n",
        "print(x, '\\t', forward(x[0], x[1]), '\\t', neuron2(x).detach())\n",
        "\n",
        "x = torch.tensor([0.0, 1.0])\n",
        "print(x, '\\t', forward(x[0], x[1]), '\\t', neuron2(x).detach())\n",
        "\n",
        "x = torch.tensor([1.0, 1.0])\n",
        "print(x, '\\t', forward(x[0], x[1]), '\\t', neuron2(x).detach())"
      ],
      "metadata": {
        "colab": {
          "base_uri": "https://localhost:8080/"
        },
        "outputId": "2d2f5ec9-66d7-490a-9f1f-9fffc47a4a49",
        "id": "FyjHPGduxYL_"
      },
      "execution_count": 72,
      "outputs": [
        {
          "output_type": "stream",
          "name": "stdout",
          "text": [
            "tensor([0., 0.]) \t tensor([0.]) \t tensor([0.])\n",
            "tensor([1., 0.]) \t tensor([1.]) \t tensor([1.])\n",
            "tensor([0., 1.]) \t tensor([1.]) \t tensor([1.])\n",
            "tensor([1., 1.]) \t tensor([0.]) \t tensor([0.])\n"
          ]
        }
      ]
    },
    {
      "cell_type": "markdown",
      "source": [
        "**Домашнее задание 2:** нарисуйте backward граф для выражения `a*b+c*d`. [Теория и пример оформления](https://www.youtube.com/watch?v=MswxJw-8PvE). Сравните полученные теоретические значения с аттрибутами grad у исходных тензоров."
      ],
      "metadata": {
        "id": "UQmVNc2kEyQP"
      }
    },
    {
      "cell_type": "code",
      "source": [
        "a = torch.tensor([2.0], requires_grad=True)\n",
        "b = torch.tensor([4.0], requires_grad=True)\n",
        "c = torch.tensor([1.0], requires_grad=True)\n",
        "d = torch.tensor([5.0], requires_grad=False)"
      ],
      "metadata": {
        "id": "rHAT-rNxnh-X"
      },
      "execution_count": 73,
      "outputs": []
    },
    {
      "cell_type": "code",
      "source": [
        "print(a.grad)\n",
        "print(b.grad)\n",
        "print(c.grad)\n",
        "print(d.grad)"
      ],
      "metadata": {
        "id": "yQUF6a8rnjyF",
        "colab": {
          "base_uri": "https://localhost:8080/"
        },
        "outputId": "928b5858-56d8-4d78-9b6e-86c2a4ac2be6"
      },
      "execution_count": 74,
      "outputs": [
        {
          "output_type": "stream",
          "name": "stdout",
          "text": [
            "None\n",
            "None\n",
            "None\n",
            "None\n"
          ]
        }
      ]
    },
    {
      "cell_type": "code",
      "source": [
        "loss = a*b+c*d\n",
        "loss.backward()"
      ],
      "metadata": {
        "id": "WQewq5DCnnPF"
      },
      "execution_count": 75,
      "outputs": []
    },
    {
      "cell_type": "code",
      "source": [
        "print(a.grad)\n",
        "print(b.grad)\n",
        "print(c.grad)\n",
        "print(d.grad)\n",
        "\n",
        "print((a*b).grad_fn)\n",
        "print((c*d).grad_fn)\n",
        "print((a*b+c*d).grad_fn)"
      ],
      "metadata": {
        "id": "tDxWZCwQnojN",
        "colab": {
          "base_uri": "https://localhost:8080/"
        },
        "outputId": "f65d0564-c494-457b-d655-93ff06adf0be"
      },
      "execution_count": 76,
      "outputs": [
        {
          "output_type": "stream",
          "name": "stdout",
          "text": [
            "tensor([4.])\n",
            "tensor([2.])\n",
            "tensor([5.])\n",
            "None\n",
            "<MulBackward0 object at 0x7ff3fadd6eb0>\n",
            "<MulBackward0 object at 0x7ff3fa347520>\n",
            "<AddBackward0 object at 0x7ff3fadd6eb0>\n"
          ]
        }
      ]
    },
    {
      "cell_type": "markdown",
      "source": [
        "![изображение.png](data:image/png;base64,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)"
      ],
      "metadata": {
        "id": "vq8SOKPc5bjd"
      }
    },
    {
      "cell_type": "markdown",
      "source": [
        "**Домашнее задание 3:** Поэксперементируйте с размером тензоров, которые влезут на видеоркарту в Colab. Найдите максимальный размер тензора для типа данных float32, float64, float16, int32, int64. На сколько они отличаются."
      ],
      "metadata": {
        "id": "NxKEOwWDwv3Y"
      }
    },
    {
      "cell_type": "code",
      "source": [
        "import gc\n",
        "try: del a \n",
        "except: pass\n",
        "gc.collect(), torch.cuda.empty_cache()"
      ],
      "metadata": {
        "colab": {
          "base_uri": "https://localhost:8080/"
        },
        "id": "uIlH0qDc-5kY",
        "outputId": "94e3d2ea-9063-4a7f-d2e1-7351ab56f9ed"
      },
      "execution_count": 78,
      "outputs": [
        {
          "output_type": "execute_result",
          "data": {
            "text/plain": [
              "(79, None)"
            ]
          },
          "metadata": {},
          "execution_count": 78
        }
      ]
    },
    {
      "cell_type": "code",
      "source": [
        "# для float16\n",
        "a = torch.rand(7_000_000_000, dtype=torch.float16, device='cuda')\n",
        "print(a.size())\n",
        "del a\n",
        "\n",
        "try:\n",
        "    a = torch.rand(8000000000, dtype=torch.float16, device='cuda')\n",
        "    del a\n",
        "except:\n",
        "    print(\"Не хватает памяти\")\n",
        "\n",
        "print()\n",
        "import gc\n",
        "print(gc.collect())\n",
        "torch.cuda.empty_cache()\n",
        "print(torch.cuda.memory_reserved(), torch.cuda.memory_allocated())"
      ],
      "metadata": {
        "colab": {
          "base_uri": "https://localhost:8080/"
        },
        "id": "rgr1nOee9zQk",
        "outputId": "e131cfa7-6369-4f0c-f1b8-2d622989cea2"
      },
      "execution_count": 82,
      "outputs": [
        {
          "output_type": "stream",
          "name": "stdout",
          "text": [
            "torch.Size([7000000000])\n",
            "Не хватает памяти\n",
            "\n",
            "224\n",
            "2097152 9728\n"
          ]
        }
      ]
    },
    {
      "cell_type": "code",
      "source": [
        "# для float32\n",
        "a = torch.rand(7000000000//2, dtype=torch.float32, device='cuda')\n",
        "print(a.size())\n",
        "del a\n",
        "\n",
        "try:\n",
        "    a = torch.rand(8000000000//2, dtype=torch.float32, device='cuda')\n",
        "    a.size()\n",
        "except:\n",
        "    print(\"Не хватает памяти\")\n",
        "\n",
        "print()\n",
        "import gc\n",
        "print(gc.collect())\n",
        "torch.cuda.empty_cache()\n",
        "print(torch.cuda.memory_reserved(), torch.cuda.memory_allocated())"
      ],
      "metadata": {
        "colab": {
          "base_uri": "https://localhost:8080/"
        },
        "id": "UEucqBJP6IQ-",
        "outputId": "53efeed3-ea4e-4088-b1bd-5321eb3dfc30"
      },
      "execution_count": 83,
      "outputs": [
        {
          "output_type": "stream",
          "name": "stdout",
          "text": [
            "torch.Size([3500000000])\n",
            "Не хватает памяти\n",
            "\n",
            "224\n",
            "2097152 9728\n"
          ]
        }
      ]
    },
    {
      "cell_type": "code",
      "source": [
        "# для float64\n",
        "a = torch.rand(7000000000//4, dtype=torch.float64, device='cuda')\n",
        "print(a.size())\n",
        "del a\n",
        "\n",
        "try:\n",
        "    a = torch.rand(8000000000//4, dtype=torch.float64, device='cuda')\n",
        "    a.size()\n",
        "except:\n",
        "    print(\"Не хватает памяти\")\n",
        "\n",
        "print()\n",
        "import gc\n",
        "print(gc.collect())\n",
        "torch.cuda.empty_cache()\n",
        "print(torch.cuda.memory_reserved(), torch.cuda.memory_allocated())"
      ],
      "metadata": {
        "colab": {
          "base_uri": "https://localhost:8080/"
        },
        "id": "cAkRaqk28I1w",
        "outputId": "8920ad6c-26cb-4a25-9f95-dc4ef48e80ac"
      },
      "execution_count": 84,
      "outputs": [
        {
          "output_type": "stream",
          "name": "stdout",
          "text": [
            "torch.Size([1750000000])\n",
            "Не хватает памяти\n",
            "\n",
            "224\n",
            "2097152 9728\n"
          ]
        }
      ]
    },
    {
      "cell_type": "code",
      "source": [
        "# для int32\n",
        "a = torch.zeros(7000000000//2, dtype=torch.int32, device='cuda')\n",
        "print(a.size())\n",
        "del a\n",
        "\n",
        "try:\n",
        "    a = torch.zeros(8000000000//2, dtype=torch.int32, device='cuda')\n",
        "    a.size()\n",
        "    del a\n",
        "except:\n",
        "    print(\"Не хватает памяти\")\n",
        "\n",
        "print()\n",
        "import gc\n",
        "print(gc.collect())\n",
        "torch.cuda.empty_cache()\n",
        "print(torch.cuda.memory_reserved(), torch.cuda.memory_allocated())"
      ],
      "metadata": {
        "colab": {
          "base_uri": "https://localhost:8080/"
        },
        "id": "_t9Opzwf_1Bd",
        "outputId": "19e81d6e-c3ba-43ed-a6ee-c5673c06d28e"
      },
      "execution_count": 86,
      "outputs": [
        {
          "output_type": "stream",
          "name": "stdout",
          "text": [
            "torch.Size([3500000000])\n",
            "Не хватает памяти\n",
            "\n",
            "224\n",
            "2097152 9728\n"
          ]
        }
      ]
    },
    {
      "cell_type": "code",
      "source": [
        "# для int64\n",
        "a = torch.zeros(7000000000//4, dtype=torch.int64, device='cuda')\n",
        "print(a.size())\n",
        "del a\n",
        "\n",
        "try:\n",
        "    a = torch.zeros(8000000000//4, dtype=torch.int64, device='cuda')\n",
        "    a.size()\n",
        "except:\n",
        "    print(\"Не хватает памяти\")\n",
        "\n",
        "print()\n",
        "import gc\n",
        "print(gc.collect())\n",
        "torch.cuda.empty_cache()\n",
        "print(torch.cuda.memory_reserved(), torch.cuda.memory_allocated())"
      ],
      "metadata": {
        "colab": {
          "base_uri": "https://localhost:8080/"
        },
        "id": "5g4fMCjzACnB",
        "outputId": "5fdc857e-8054-480b-8e26-c9dfc8ab667c"
      },
      "execution_count": 85,
      "outputs": [
        {
          "output_type": "stream",
          "name": "stdout",
          "text": [
            "torch.Size([1750000000])\n",
            "Не хватает памяти\n",
            "\n",
            "224\n",
            "2097152 9728\n"
          ]
        }
      ]
    },
    {
      "cell_type": "markdown",
      "source": [
        "Видно, что видеокарта может вместить \n",
        "- ~7000000000 элементов типа float16\n",
        "- ~3500000000 элементов типа float32 и int32\n",
        "- ~1750000000 элементов типа float64 и int64\n",
        "\n",
        "Закономерно, что если float32 и int32 требуют в 2 раза больше памяти, то и элементов этих типов видеокарта может хранить в два раза меньше. То же справедливо и для float64 и int64"
      ],
      "metadata": {
        "id": "QFJlAHs0_WUO"
      }
    },
    {
      "cell_type": "markdown",
      "source": [
        "**Домашнее задание 4:** Напишите хороший пример неэффективного кода для занятия памяти видеокарты, который вызовет ошибку out of memory"
      ],
      "metadata": {
        "id": "CBR5pWOlzOtl"
      }
    },
    {
      "cell_type": "code",
      "source": [
        "gc.collect()\n",
        "torch.cuda.empty_cache()\n",
        "\n",
        "def allocate_empty_tensor(dim_size):\n",
        "  a=torch.zeros(1024*1024*128,dim_size,dtype=torch.float32,device='cuda')\n",
        "  return a\n",
        "\n",
        "print(torch.cuda.memory_allocated()/1024//1024, \"MB\")\n",
        "print(torch.cuda.memory_reserved()/1024/1024//1024, \"GB\")\n",
        "print()\n",
        "print(\"FILLING\")\n",
        "try:\n",
        "    for i in range(13): # Trying to work with tensors from 1 GB to 13GB. GPU MAX 16GB\n",
        "        temp_working_tensor = allocate_empty_tensor(i)\n",
        "        print(torch.cuda.memory_allocated()/1024//1024, \"MB\")\n",
        "        print(torch.cuda.memory_reserved()/1024/1024//1024, \"GB\")\n",
        "        print()\n",
        "except Exception as e:\n",
        "    print(e)\n",
        "    print()\n",
        "\n",
        "print(\"CLEARING\")\n",
        "del temp_working_tensor\n",
        "gc.collect()\n",
        "torch.cuda.empty_cache()\n",
        "print(torch.cuda.memory_allocated()/1024//1024, \"MB\")\n",
        "print(torch.cuda.memory_reserved()/1024/1024//1024, \"GB\")\n",
        "print()"
      ],
      "metadata": {
        "colab": {
          "base_uri": "https://localhost:8080/"
        },
        "id": "UomQH3tppAAM",
        "outputId": "28c1cb82-e178-4697-8181-c68f379a8992"
      },
      "execution_count": 99,
      "outputs": [
        {
          "output_type": "stream",
          "name": "stdout",
          "text": [
            "4608.0 MB\n",
            "4.0 GB\n",
            "\n",
            "FILLING\n",
            "4608.0 MB\n",
            "4.0 GB\n",
            "\n",
            "5120.0 MB\n",
            "5.0 GB\n",
            "\n",
            "5632.0 MB\n",
            "6.0 GB\n",
            "\n",
            "6144.0 MB\n",
            "7.0 GB\n",
            "\n",
            "6656.0 MB\n",
            "9.0 GB\n",
            "\n",
            "7168.0 MB\n",
            "12.0 GB\n",
            "\n",
            "5632.0 MB\n",
            "10.0 GB\n",
            "\n",
            "6144.0 MB\n",
            "10.0 GB\n",
            "\n",
            "6656.0 MB\n",
            "11.0 GB\n",
            "\n",
            "7168.0 MB\n",
            "11.0 GB\n",
            "\n",
            "9728.0 MB\n",
            "12.0 GB\n",
            "\n",
            "CUDA out of memory. Tried to allocate 5.50 GiB (GPU 0; 14.76 GiB total capacity; 9.50 GiB already allocated; 4.46 GiB free; 9.50 GiB reserved in total by PyTorch) If reserved memory is >> allocated memory try setting max_split_size_mb to avoid fragmentation.  See documentation for Memory Management and PYTORCH_CUDA_ALLOC_CONF\n",
            "\n",
            "CLEARING\n",
            "4608.0 MB\n",
            "4.0 GB\n",
            "\n"
          ]
        }
      ]
    },
    {
      "cell_type": "markdown",
      "source": [
        "**Домашнее задание 5:** Используя один линейный слой `nn.Linear` и один входной тензор `x` подберите подберите размерности так, чтобы занимать всю видеопамять.\n",
        "Попробуйте применить линейный слой к тензору `x`. Что произойдет? Кратко опишите ваши эксперименты. Что вы поняли?"
      ],
      "metadata": {
        "id": "0_hOtvvR89jq"
      }
    },
    {
      "cell_type": "code",
      "source": [
        "del a, b\n",
        "gc.collect(), torch.cuda.empty_cache()"
      ],
      "metadata": {
        "colab": {
          "base_uri": "https://localhost:8080/"
        },
        "id": "wMPIt96BSVrH",
        "outputId": "856e88f7-03e6-4f82-ce68-2c6fe3a37691"
      },
      "execution_count": 139,
      "outputs": [
        {
          "output_type": "execute_result",
          "data": {
            "text/plain": [
              "(8, None)"
            ]
          },
          "metadata": {},
          "execution_count": 139
        }
      ]
    },
    {
      "cell_type": "code",
      "source": [
        "import torch\n",
        "try:\n",
        "    a = torch.nn.Linear(1, 1500000000, device='cuda')\n",
        "    b = torch.ones(1, device='cuda')\n",
        "    print(\"Теперь пропустим тензор через сеть\")\n",
        "    c = a(b)\n",
        "    print(c.size())\n",
        "    del a, b, c\n",
        "except Exception as e:\n",
        "    print(\"Упс\", e)"
      ],
      "metadata": {
        "colab": {
          "base_uri": "https://localhost:8080/"
        },
        "id": "JEptTV0VDwcY",
        "outputId": "cc20ba4e-d490-4a92-d210-2a819936466b"
      },
      "execution_count": 140,
      "outputs": [
        {
          "output_type": "stream",
          "name": "stdout",
          "text": [
            "Теперь пропустим тензор через сеть\n",
            "Упс CUDA out of memory. Tried to allocate 5.59 GiB (GPU 0; 14.76 GiB total capacity; 11.18 GiB already allocated; 2.78 GiB free; 11.18 GiB reserved in total by PyTorch) If reserved memory is >> allocated memory try setting max_split_size_mb to avoid fragmentation.  See documentation for Memory Management and PYTORCH_CUDA_ALLOC_CONF\n"
          ]
        }
      ]
    },
    {
      "cell_type": "markdown",
      "source": [
        "Как видно, видеопамяти хватило на хранение матрицы весов (1х1500000000) и входного тензора (1), но результат работы линейного слоя (1500000000) уже не смог влезть"
      ],
      "metadata": {
        "id": "ZlPHAjFzHmAM"
      }
    },
    {
      "cell_type": "markdown",
      "source": [
        "# Рекомендуемые ссылки"
      ],
      "metadata": {
        "id": "_Z2Ot37UODKM"
      }
    },
    {
      "cell_type": "markdown",
      "source": [
        "- [Нейронные сети и компьютерное зрение, Samsung AI Center, часть 1](https://stepik.org/course/50352/syllabus)\n",
        "- [Cимулятор](https://playground.tensorflow.org/) нейронов и нейронных сетей"
      ],
      "metadata": {
        "id": "SnFY95T7kNji"
      }
    }
  ]
}